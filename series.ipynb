{
 "cells": [
  {
   "cell_type": "code",
   "execution_count": 3,
   "id": "43790276",
   "metadata": {},
   "outputs": [
    {
     "name": "stdout",
     "output_type": "stream",
     "text": [
      "25      Alice\n",
      "30        Bob\n",
      "35    Charlie\n",
      "dtype: object\n"
     ]
    },
    {
     "data": {
      "text/plain": [
       "Josh       24\n",
       "Sam        36\n",
       "Peace      19\n",
       "Charles    65\n",
       "Tom        44\n",
       "dtype: int64"
      ]
     },
     "execution_count": 3,
     "metadata": {},
     "output_type": "execute_result"
    }
   ],
   "source": [
    "import pandas as pd \n",
    "\n",
    "name=(['Alice', 'Bob', 'Charlie'])\n",
    "age=([25, 30, 35])\n",
    "contaier=pd.Series(name, index=age)\n",
    "print(contaier)\n",
    "\n",
    "dictionary1 = {'Josh': 24, 'Sam': 36, 'Peace': 19, 'Charles': 65, 'Tom': 44}\n",
    "pd.Series(dictionary1)\n"
   ]
  },
  {
   "cell_type": "code",
   "execution_count": 7,
   "id": "198a5b98",
   "metadata": {},
   "outputs": [
    {
     "name": "stdout",
     "output_type": "stream",
     "text": [
      "The two series have the same length.\n",
      "5\n",
      "x[0] is less than y[0].\n",
      "x[1] is greater than y[1].\n",
      "x[2] is greater than y[2].\n",
      "x[3] is less than y[3].\n",
      "x[4] is equal to y[4].\n"
     ]
    }
   ],
   "source": [
    "x=pd.Series([4,65,436,3,9])\n",
    "y=pd.Series([7,0,3,897,9])\n",
    "if len(x) == len(y):\n",
    "    print(\"The two series have the same length.\")\n",
    "    length=len(x)\n",
    "elif len(x) > len(y):\n",
    "    print(\"Series x is longer than series y.\")\n",
    "    length=len(x)\n",
    "else:\n",
    "    print(\"Series y is longer than series x.\")\n",
    "    length=len(y)\n",
    "print(length)\n",
    "for i in range(length):\n",
    "    if x[i] > y[i]:\n",
    "        print(f\"x[{i}] is greater than y[{i}].\")\n",
    "    elif x[i] < y[i]:\n",
    "        print(f\"x[{i}] is less than y[{i}].\")\n",
    "    else:\n",
    "        print(f\"x[{i}] is equal to y[{i}].\")"
   ]
  },
  {
   "cell_type": "code",
   "execution_count": 12,
   "id": "e38f9d2b",
   "metadata": {},
   "outputs": [
    {
     "name": "stdout",
     "output_type": "stream",
     "text": [
      "0     3\n",
      "1     7\n",
      "2    11\n",
      "3    15\n",
      "4    23\n",
      "dtype: int64\n",
      "0    1\n",
      "1    1\n",
      "2    1\n",
      "3    1\n",
      "4    5\n",
      "dtype: int64\n",
      "0      2\n",
      "1     12\n",
      "2     30\n",
      "3     56\n",
      "4    126\n",
      "dtype: int64\n",
      "0    2.000000\n",
      "1    1.333333\n",
      "2    1.200000\n",
      "3    1.142857\n",
      "4    1.555556\n",
      "dtype: float64\n"
     ]
    }
   ],
   "source": [
    "a=pd.Series([2,4,6,8,14])\n",
    "b=pd.Series([1,3,5,7,9])\n",
    "df_sum=a.add(b, fill_value=0)\n",
    "print(df_sum)\n",
    "df_minus=a.sub(b)\n",
    "print(df_minus)\n",
    "df_multiply=a.mul(b)\n",
    "print(df_multiply)\n",
    "df_divide=a.div(b)\n",
    "print(df_divide)"
   ]
  },
  {
   "cell_type": "code",
   "execution_count": null,
   "id": "33b8c875",
   "metadata": {},
   "outputs": [
    {
     "name": "stdout",
     "output_type": "stream",
     "text": [
      "0     Love\n",
      "1      800\n",
      "2      Joy\n",
      "3    789.9\n",
      "4    Peace\n",
      "5     True\n",
      "dtype: object\n",
      "\n",
      "NumPy array:\n",
      "['Love' 800 'Joy' 789.9 'Peace' True]\n",
      "Dtype of the NumPy array: object\n",
      "0      1.0\n",
      "1      NaN\n",
      "2      4.0\n",
      "3      4.0\n",
      "4      1.0\n",
      "      ... \n",
      "617    0.0\n",
      "618    1.0\n",
      "619    2.0\n",
      "620    0.0\n",
      "621    0.0\n",
      "Name: HomeTeamGoals, Length: 622, dtype: float64 0    1.0\n",
      "Name: HomeTeamGoals, dtype: float64\n"
     ]
    }
   ],
   "source": [
    "ser = pd.Series(['Love', 800, 'Joy', 789.9, 'Peace', True])\n",
    "types = [str, int, str, float, str, bool]\n",
    "ser = pd.Series([t(v) for v, t in zip(ser, types)])\n",
    "print(ser)\n",
    "numpy_array = ser.to_numpy()\n",
    "print(\"\\nNumPy array:\")\n",
    "print(numpy_array)\n",
    "print(f\"Dtype of the NumPy array: {numpy_array.dtype}\")\n",
    "\n"
   ]
  },
  {
   "cell_type": "code",
   "execution_count": 19,
   "id": "8a3c3221",
   "metadata": {},
   "outputs": [
    {
     "name": "stdout",
     "output_type": "stream",
     "text": [
      "0    1.0\n",
      "Name: HomeTeamGoals, dtype: float64\n",
      "     HomeTeamGoals     HomeTeam\n",
      "0              1.0       Sudan \n",
      "1              NaN    Ethiopia \n",
      "2              4.0       Egypt \n",
      "3              4.0        Egypt\n",
      "4              1.0       Sudan \n",
      "..             ...          ...\n",
      "617            0.0  Madagascar \n",
      "618            1.0     Senegal \n",
      "619            2.0     Algeria \n",
      "620            0.0     Tunisia \n",
      "621            0.0     Senegal \n",
      "\n",
      "[622 rows x 2 columns] 0    1.0\n",
      "Name: HomeTeamGoals, dtype: float64\n"
     ]
    }
   ],
   "source": [
    "df = pd.read_csv('AfricaCupofNationsMatches.csv')\n",
    "mode_check = df['HomeTeamGoals'].mode().sort_values(ascending=False)\n",
    "print(df['HomeTeamGoals'].mode())\n",
    "print(df[['HomeTeamGoals','HomeTeam']], mode_check)\n"
   ]
  },
  {
   "cell_type": "code",
   "execution_count": null,
   "id": "0d469108",
   "metadata": {},
   "outputs": [
    {
     "name": "stdout",
     "output_type": "stream",
     "text": [
      "Most frequent value(s) in 'HomeTeamGoals':\n",
      "0    1.0\n",
      "Name: HomeTeamGoals, dtype: float64\n",
      "------------------------------\n",
      "Series with other values replaced by 'Other':\n",
      "0      1.0\n",
      "1    Other\n",
      "2    Other\n",
      "3    Other\n",
      "4      1.0\n",
      "5    Other\n",
      "6    Other\n",
      "7    Other\n",
      "8    Other\n",
      "9    Other\n",
      "Name: HomeTeamGoals, dtype: object\n"
     ]
    },
    {
     "name": "stderr",
     "output_type": "stream",
     "text": [
      "C:\\Users\\user\\AppData\\Local\\Temp\\ipykernel_1532\\1438195801.py:27: FutureWarning: Setting an item of incompatible dtype is deprecated and will raise an error in a future version of pandas. Value 'Other' has dtype incompatible with float64, please explicitly cast to a compatible dtype first.\n",
      "  modified_home_goals.loc[modified_home_goals != target_mode] = 'Other'\n"
     ]
    }
   ],
   "source": [
    "\n",
    "\n",
    "home_goals_series = df['HomeTeamGoals']\n",
    "\n",
    "most_frequent_values = home_goals_series.mode()\n",
    "if not most_frequent_values.empty:\n",
    "    target_mode = most_frequent_values.iloc[0]\n",
    "else:\n",
    "    target_mode = None \n",
    "\n",
    "modified_home_goals = home_goals_series.copy()\n",
    "\n",
    "# Use .loc for setting values based on a condition\n",
    "if target_mode is not None:\n",
    "    modified_home_goals.loc[modified_home_goals != target_mode] = 'Other'\n",
    "else:\n",
    "    modified_home_goals[:] = 'Other'\n",
    "\n",
    "\n",
    "print(\"Series with other values replaced by 'Other':\")\n",
    "print(modified_home_goals.head(10))"
   ]
  },
  {
   "cell_type": "code",
   "execution_count": 9,
   "id": "49f738be",
   "metadata": {},
   "outputs": [
    {
     "name": "stdout",
     "output_type": "stream",
     "text": [
      "    HomeTeam       AwayTeam  HomeTeamGoals  AwayTeamGoals\n",
      "0     Sudan           Egypt            1.0            2.0\n",
      "1  Ethiopia    South Africa            NaN            NaN\n",
      "2     Egypt        Ethiopia            4.0            0.0\n",
      "3      Egypt       Ethiopia            4.0            0.0\n",
      "4     Sudan        Ethiopia            1.0            0.0\n",
      "5      Egypt          Sudan            2.0            1.0\n",
      "6  Ethiopia         Tunisia            4.0            2.0\n",
      "7      Egypt         Uganda            2.0            1.0\n",
      "8   Tunisia          Uganda            3.0            0.0\n",
      "9  Ethiopia           Egypt            4.0            2.0\n"
     ]
    }
   ],
   "source": [
    "df = pd.read_csv('AfricaCupofNationsMatches.csv')\n",
    "df.head(7)\n",
    "data = df[['HomeTeam', 'AwayTeam', 'HomeTeamGoals', 'AwayTeamGoals']].head(10)\n",
    "print(data)"
   ]
  },
  {
   "cell_type": "code",
   "execution_count": 29,
   "id": "5a77eb1d",
   "metadata": {},
   "outputs": [
    {
     "name": "stdout",
     "output_type": "stream",
     "text": [
      "Data for home team 'Egypt':\n",
      "    Year      Date  Time  HomeTeam   AwayTeam  HomeTeamGoals  AwayTeamGoals  \\\n",
      "3   1959  22-May-59   NaN    Egypt   Ethiopia            4.0            0.0   \n",
      "5   1959  29-May-59   NaN    Egypt      Sudan            2.0            1.0   \n",
      "7   1962  18-Jan-62   NaN    Egypt     Uganda            2.0            1.0   \n",
      "13  1963  24-Nov-63   NaN    Egypt    Nigeria            6.0            3.0   \n",
      "14  1963  26-Nov-63   NaN    Egypt      Sudan            2.0            2.0   \n",
      "16  1963  30-Nov-63   NaN    Egypt   Ethiopia            3.0            0.0   \n",
      "\n",
      "                Stage SpecialWinConditions                 Stadium  \\\n",
      "3    Final Tournament                  NaN   Prince Farouk Stadium   \n",
      "5    Final Tournament                  NaN   Prince Farouk Stadium   \n",
      "7          Semifinals                  NaN  Hailé Sélassié Stadium   \n",
      "13            Group B                  NaN   Kumasi Sports Stadium   \n",
      "14            Group B                  NaN   Kumasi Sports Stadium   \n",
      "16  Third place match                  NaN    Accra Sports Stadium   \n",
      "\n",
      "            City  Attendance  \n",
      "3          Cairo     30000.0  \n",
      "5          Cairo     30000.0  \n",
      "7    Addis Ababa     30000.0  \n",
      "13        Kumasi         NaN  \n",
      "14        Kumasi         NaN  \n",
      "16         Accra         NaN  \n"
     ]
    }
   ],
   "source": [
    "df4= df[df[\"HomeTeam\"] == \"Egypt\"]\n",
    "print(f\"Data for home team 'Egypt':\\n{df4}\")"
   ]
  },
  {
   "cell_type": "code",
   "execution_count": 27,
   "id": "e2c7775c",
   "metadata": {},
   "outputs": [
    {
     "name": "stdout",
     "output_type": "stream",
     "text": [
      "DataFrame df5:\n",
      "   A  B\n",
      "X  1  2\n",
      "Y  3  4\n",
      "Z  5  6\n"
     ]
    }
   ],
   "source": [
    "df5=pd.DataFrame([[1,2],[3,4],[5,6]], columns=list('AB'), index=list('XYZ'))\n",
    "print(f\"DataFrame df5:\\n{df5}\")"
   ]
  },
  {
   "cell_type": "code",
   "execution_count": 33,
   "id": "54284533",
   "metadata": {},
   "outputs": [
    {
     "name": "stdout",
     "output_type": "stream",
     "text": [
      "DataFrame df6 with missing Attendance values:\n",
      "     Year                         Date   Time        HomeTeam       AwayTeam  \\\n",
      "1    1957                     10-Feb-57    NaN      Ethiopia    South Africa   \n",
      "8    1962                     20-Jan-62    NaN       Tunisia          Uganda   \n",
      "9    1962                     21-Jan-62    NaN      Ethiopia           Egypt   \n",
      "10   1963                     24-Nov-63    NaN         Ghana         Tunisia   \n",
      "11   1963                     26-Nov-63    NaN         Ghana        Ethiopia   \n",
      "..    ...                           ...    ...            ...            ...   \n",
      "565  2017  29 January 2017 (2017-01-29)  20:00         Egypt         Morocco   \n",
      "566  2017  1 February 2017 (2017-02-01)  20:00  Burkina Faso           Egypt   \n",
      "567  2017  2 February 2017 (2017-02-02)  20:00      Cameroon           Ghana   \n",
      "568  2017  4 February 2017 (2017-02-04)  20:00  Burkina Faso           Ghana   \n",
      "569  2017  5 February 2017 (2017-02-05)  20:00         Egypt        Cameroon   \n",
      "\n",
      "     HomeTeamGoals  AwayTeamGoals                 Stage  \\\n",
      "1              NaN            NaN            Semifinals   \n",
      "8              3.0            0.0     Third place match   \n",
      "9              4.0            2.0                 Final   \n",
      "10             1.0            1.0               Group A   \n",
      "11             2.0            0.0               Group A   \n",
      "..             ...            ...                   ...   \n",
      "565            1.0            0.0        Quarter-finals   \n",
      "566            1.0            1.0           Semi-finals   \n",
      "567            2.0            0.0           Semi-finals   \n",
      "568            1.0            0.0  Third place play-off   \n",
      "569            1.0            2.0                 Final   \n",
      "\n",
      "                                  SpecialWinConditions  \\\n",
      "1    Ethiopia  wins due to disqualification of othe...   \n",
      "8                                                  NaN   \n",
      "9                                win after extra time    \n",
      "10                                                 NaN   \n",
      "11                                                 NaN   \n",
      "..                                                 ...   \n",
      "565                                                NaN   \n",
      "566                        Egypt win on Penalities 3-4   \n",
      "567                                                NaN   \n",
      "568                                                NaN   \n",
      "569                                                NaN   \n",
      "\n",
      "                    Stadium          City  Attendance  \n",
      "1                       NaN           NaN         NaN  \n",
      "8    Hailé Sélassié Stadium   Addis Ababa         NaN  \n",
      "9    Hailé Sélassié Stadium   Addis Ababa         NaN  \n",
      "10     Accra Sports Stadium         Accra         NaN  \n",
      "11     Accra Sports Stadium         Accra         NaN  \n",
      "..                      ...           ...         ...  \n",
      "565    Stade de Port-Gentil   Port-Gentil         NaN  \n",
      "566       Stade de l'Amitié    Libreville         NaN  \n",
      "567    Stade de Franceville   Franceville         NaN  \n",
      "568    Stade de Port-Gentil   Port-Gentil         NaN  \n",
      "569       Stade de l'Amitié    Libreville         NaN  \n",
      "\n",
      "[100 rows x 12 columns]\n",
      "DataFrame df7 with Attendance NaN count:\n",
      "100\n"
     ]
    }
   ],
   "source": [
    "df['Attendance'] = pd.to_numeric(df['Attendance'], errors='coerce')\n",
    "\n",
    "df6 = df[df['Attendance'].isna()]\n",
    "nan_count = df['Attendance'].isna().sum()\n",
    "print(f\"DataFrame df6 with missing Attendance values:\\n{df6}\")\n",
    "print(f\"DataFrame df7 with Attendance NaN count:\\n{nan_count}\")"
   ]
  },
  {
   "cell_type": "code",
   "execution_count": 36,
   "id": "71d53b0d",
   "metadata": {},
   "outputs": [
    {
     "name": "stdout",
     "output_type": "stream",
     "text": [
      "Teams with HomeTeamGoals between 3 and 6:\n",
      "      HomeTeam  HomeTeamGoals\n",
      "2       Egypt             4.0\n",
      "3        Egypt            4.0\n",
      "6    Ethiopia             4.0\n",
      "8     Tunisia             3.0\n",
      "9    Ethiopia             4.0\n",
      "..         ...            ...\n",
      "553   Morocco             3.0\n",
      "585     Kenya             3.0\n",
      "595      Mali             4.0\n",
      "608   Nigeria             3.0\n",
      "611   Algeria             3.0\n",
      "\n",
      "[138 rows x 2 columns]\n",
      "10.0\n"
     ]
    }
   ],
   "source": [
    "criteria = (df['HomeTeamGoals'] >= 3) & (df['HomeTeamGoals'] <= 6)\n",
    "top_scoring_teams = df[criteria]\n",
    "print(\"Teams with HomeTeamGoals between 3 and 6:\")\n",
    "print(top_scoring_teams[['HomeTeam', 'HomeTeamGoals']])\n",
    "\n",
    "away_team_goals = df[\"AwayTeamGoals\"].copy()\n",
    "away_team_goals.iloc[3] = 10\n",
    "print(away_team_goals.iloc[3])"
   ]
  },
  {
   "cell_type": "code",
   "execution_count": 41,
   "id": "1af014b4",
   "metadata": {},
   "outputs": [
    {
     "name": "stdout",
     "output_type": "stream",
     "text": [
      "\n",
      "Sorted by HomeTeam in ascending order:\n",
      "     Year                         Date   Time   HomeTeam   AwayTeam  \\\n",
      "403  2004                      3-Feb-04  14:00  Algeria    Zimbabwe   \n",
      "229  1992                     17-Jan-92    NaN  Algeria       Congo   \n",
      "291  1998                      8-Feb-98  20:30  Algeria      Guinea   \n",
      "544  2017  15 January 2017 (2017-01-15)  17:00  Algeria    Zimbabwe   \n",
      "148  1982                      7-Mar-82    NaN  Algeria      Zambia   \n",
      "29   1968                     14-Jan-68    NaN  Algeria      Uganda   \n",
      "151  1982                     13-Mar-82    NaN  Algeria    Ethiopia   \n",
      "220  1990                     16-Mar-90  16:00  Algeria     Nigeria   \n",
      "193  1988                     19-Mar-88    NaN  Algeria       Zaire   \n",
      "546  2017  19 January 2017 (2017-01-19)  17:00  Algeria     Tunisia   \n",
      "\n",
      "     HomeTeamGoals  AwayTeamGoals    Stage SpecialWinConditions  \\\n",
      "403            1.0            2.0  Group C                  NaN   \n",
      "229            1.0            1.0  Group C                  NaN   \n",
      "291            0.0            1.0  Group A                  NaN   \n",
      "544            2.0            2.0  Group B                  NaN   \n",
      "148            1.0            0.0  Group B                  NaN   \n",
      "29             4.0            0.0  Group A                  NaN   \n",
      "151            0.0            0.0  Group B                  NaN   \n",
      "220            1.0            0.0    Final                  NaN   \n",
      "193            1.0            0.0  Group A                  NaN   \n",
      "546            1.0            2.0  Group B                  NaN   \n",
      "\n",
      "                       Stadium          City  Attendance  \n",
      "403  Stade Olympique de Sousse        Sousse     10000.0  \n",
      "229   Stade Aline Sitoe Diatta    Ziguinchor      5000.0  \n",
      "291            Stade Municipal   Ouagadougou      3000.0  \n",
      "544       Stade de Franceville   Franceville         NaN  \n",
      "148           28 March Stadium      Benghazi      5000.0  \n",
      "29      Hailé Sélassié Stadium   Addis Ababa     25000.0  \n",
      "151           28 March Stadium      Benghazi      5000.0  \n",
      "220       Stade 5 Juillet 1962       Algiers    105032.0  \n",
      "193            Stade Mohamed V    Casablanca     75000.0  \n",
      "546       Stade de Franceville   Franceville         NaN  \n",
      "\n",
      "Sorted by HomeTeamGoals in descending order:\n",
      "     Year      Date   Time       HomeTeam              AwayTeam  \\\n",
      "13   1963  24-Nov-63    NaN         Egypt               Nigeria   \n",
      "46   1970  10-Feb-70    NaN  Ivory Coast               Ethiopia   \n",
      "21   1965  12-Nov-65    NaN        Ghana    Congo-Léopoldville   \n",
      "20   1965  19-Nov-65    NaN      Senegal               Ethiopia   \n",
      "400  2004  29-Jan-04  16:30     Cameroon               Zimbabwe   \n",
      "270  1996  20-Jan-96    NaN       Zambia           Burkina Faso   \n",
      "464  2008  26-Jan-08  17:00     Cameroon                 Zambia   \n",
      "475  2008   3-Feb-08  20:30  Ivory Coast                 Guinea   \n",
      "72   1972   4-Mar-72    NaN     Cameroon                  Zaire   \n",
      "306  1998  16-Feb-98  20:00  Ivory Coast                 Angola   \n",
      "\n",
      "     HomeTeamGoals  AwayTeamGoals              Stage SpecialWinConditions  \\\n",
      "13             6.0            3.0            Group B                  NaN   \n",
      "46             6.0            1.0            Group A                  NaN   \n",
      "21             5.0            2.0            Group B                  NaN   \n",
      "20             5.0            1.0            Group A                  NaN   \n",
      "400            5.0            3.0            Group C                  NaN   \n",
      "270            5.0            1.0            Group B                  NaN   \n",
      "464            5.0            1.0            Group C                  NaN   \n",
      "475            5.0            0.0     Quarter-finals                  NaN   \n",
      "72             5.0            2.0  Third place match                  NaN   \n",
      "306            5.0            2.0            Group C                  NaN   \n",
      "\n",
      "                   Stadium           City  Attendance  \n",
      "13   Kumasi Sports Stadium         Kumasi         NaN  \n",
      "46       Municipal Stadium       Khartoum      9770.0  \n",
      "21   Stade Bou Ali Lahouar         Sousse         NaN  \n",
      "20    Stade Chedli Zouiten          Tunis         NaN  \n",
      "400   Stade Taïeb El Mhiri           Sfax     15000.0  \n",
      "270     Free State Stadium   Bloemfontein      2000.0  \n",
      "464      Baba Yara Stadium         Kumasi     10000.0  \n",
      "475        Sekondi Stadium        Sekondi     14000.0  \n",
      "72        Stade Omnisports        Yaoundé         NaN  \n",
      "306        Stade Municipal    Ouagadougou      4000.0  \n"
     ]
    }
   ],
   "source": [
    "first=df.sort_values(by='HomeTeam', ascending=True)\n",
    "second=df.sort_values(by='HomeTeamGoals', ascending=False)\n",
    "print(\"\\nSorted by HomeTeam in ascending order:\")\n",
    "print(first.head(10))\n",
    "print(\"\\nSorted by HomeTeamGoals in descending order:\")\n",
    "print(second.head(10))"
   ]
  },
  {
   "cell_type": "code",
   "execution_count": 42,
   "id": "7d47dd77",
   "metadata": {},
   "outputs": [
    {
     "name": "stdout",
     "output_type": "stream",
     "text": [
      "['Year', 'Date ', 'Time ', 'HomeTeam', 'AwayTeam', 'HomeTeamGoals', 'AwayTeamGoals', 'Stage', 'SpecialWinConditions', 'Stadium', 'City', 'Attendance']\n"
     ]
    }
   ],
   "source": [
    "print(list(df.columns))"
   ]
  },
  {
   "cell_type": "code",
   "execution_count": null,
   "id": "ca5b14b3",
   "metadata": {},
   "outputs": [],
   "source": []
  }
 ],
 "metadata": {
  "kernelspec": {
   "display_name": "Python 3",
   "language": "python",
   "name": "python3"
  },
  "language_info": {
   "codemirror_mode": {
    "name": "ipython",
    "version": 3
   },
   "file_extension": ".py",
   "mimetype": "text/x-python",
   "name": "python",
   "nbconvert_exporter": "python",
   "pygments_lexer": "ipython3",
   "version": "3.13.3"
  }
 },
 "nbformat": 4,
 "nbformat_minor": 5
}
